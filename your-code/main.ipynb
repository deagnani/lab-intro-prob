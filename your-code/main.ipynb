{
 "cells": [
  {
   "cell_type": "markdown",
   "metadata": {},
   "source": [
    "# Introduction To Probability\n",
    "## Challenge 1\n",
    "\n",
    "A and B are events of a probability space with $(\\omega, \\sigma, P)$ such that $P(A) = 0.3$, $P(B) = 0.6$ and $P(A \\cap B) = 0.1$\n",
    "\n",
    "Which of the following statements are false?\n",
    "* $P(A \\cup B) = 0.6$\n",
    "* $P(A \\cap B^{C}) = 0.2$\n",
    "* $P(A \\cap (B \\cup B^{C})) = 0.4$\n",
    "* $P(A^{C} \\cap B^{C}) = 0.3$\n",
    "* $P((A \\cap B)^{C}) = 0.9$"
   ]
  },
  {
   "cell_type": "code",
   "execution_count": 1,
   "metadata": {},
   "outputs": [
    {
     "data": {
      "text/plain": [
       "{'P(A ∪ B)': 0.7999999999999999,\n",
       " 'P(A ∩ B^c)': 0.19999999999999998,\n",
       " 'P(A ∩ (B ∪ B^c)^c)': 0.19999999999999998,\n",
       " 'P(A^c ∩ B^c)': 0.19999999999999998,\n",
       " 'P((A ∩ B)^c)': 0.9}"
      ]
     },
     "execution_count": 1,
     "metadata": {},
     "output_type": "execute_result"
    }
   ],
   "source": [
    "P_A = 0.3\n",
    "P_B = 0.6\n",
    "P_A_and_B = 0.1\n",
    "P_A_or_B = P_A + P_B - P_A_and_B\n",
    "P_A_and_B_complement = P_A - P_A_and_B\n",
    "P_A_and_union_B_complement = P_A - P_A_and_B\n",
    "P_A_complement_and_B_complement = 1 - P_A - P_B + P_A_and_B\n",
    "P_A_and_B_complement = P_A_and_B_complement\n",
    "\n",
    "P_values = {\n",
    "    \"P(A ∪ B)\": P_A_or_B,\n",
    "    \"P(A ∩ B^c)\": P_A_and_B_complement,\n",
    "    \"P(A ∩ (B ∪ B^c)^c)\": P_A_and_union_B_complement,\n",
    "    \"P(A^c ∩ B^c)\": P_A_complement_and_B_complement,\n",
    "    \"P((A ∩ B)^c)\": 1 - P_A_and_B\n",
    "}\n",
    "\n",
    "P_values\n"
   ]
  },
  {
   "cell_type": "markdown",
   "metadata": {},
   "source": [
    "## Challenge 2\n",
    "There is a box with 10 white balls, 12 red balls and 8 black balls. Calculate the probability of:\n",
    "* Taking a white ball out.\n",
    "* Taking a white ball out after taking a black ball out.\n",
    "* Taking a red ball out after taking a black and a red ball out.\n",
    "* Taking a red ball out after taking a black and a red ball out with reposition.\n",
    "\n",
    "**Hint**: Reposition means putting back the ball into the box after taking it out."
   ]
  },
  {
   "cell_type": "code",
   "execution_count": 2,
   "metadata": {},
   "outputs": [
    {
     "data": {
      "text/plain": [
       "{'P(White)': 0.3333333333333333,\n",
       " 'P(White after Black)': 0.3448275862068966,\n",
       " 'P(Red after Black and Red)': 0.39285714285714285,\n",
       " 'P(Red with Reposition)': 0.4}"
      ]
     },
     "execution_count": 2,
     "metadata": {},
     "output_type": "execute_result"
    }
   ],
   "source": [
    "total_balls = 10 + 12 + 8\n",
    "P_white = 10 / total_balls\n",
    "total_balls_after_black = total_balls - 1\n",
    "P_white_after_black = 10 / total_balls_after_black\n",
    "total_balls_after_black_and_red = total_balls - 2\n",
    "P_red_after_black_and_red = 11 / total_balls_after_black_and_red\n",
    "P_red_with_reposition = 12 / total_balls\n",
    "probabilities = {\n",
    "    \"P(White)\": P_white,\n",
    "    \"P(White after Black)\": P_white_after_black,\n",
    "    \"P(Red after Black and Red)\": P_red_after_black_and_red,\n",
    "    \"P(Red with Reposition)\": P_red_with_reposition\n",
    "}\n",
    "\n",
    "probabilities\n"
   ]
  },
  {
   "cell_type": "markdown",
   "metadata": {},
   "source": [
    "## Challenge 3\n",
    "\n",
    "You are planning to go on a picnic today but the morning is cloudy. You hate rain so you don't know whether to go out or stay home! To help you make a decision, you gather the following data about rainy days:\n",
    "\n",
    "* Knowing that it is a rainy day, the probability of cloudy is 50%!\n",
    "* The probability of any day (rainy or not) starting off cloudy is 40%. \n",
    "* This month is usually dry so only 3 of 30 days (10%) tend to be rainy. \n",
    "\n",
    "What is the probability of rain, given the day started cloudy?"
   ]
  },
  {
   "cell_type": "code",
   "execution_count": 3,
   "metadata": {},
   "outputs": [
    {
     "data": {
      "text/plain": [
       "0.125"
      ]
     },
     "execution_count": 3,
     "metadata": {},
     "output_type": "execute_result"
    }
   ],
   "source": [
    "P_Cloudy_given_Rain = 0.5\n",
    "P_Cloudy = 0.4\n",
    "P_Rain = 0.1\n",
    "P_Rain_given_Cloudy = (P_Cloudy_given_Rain * P_Rain) / P_Cloudy\n",
    "P_Rain_given_Cloudy"
   ]
  },
  {
   "cell_type": "markdown",
   "metadata": {},
   "source": [
    "## Challenge 4\n",
    "\n",
    "One thousand people were asked through a telephone survey whether they thought more street lighting is needed at night or not.\n",
    "\n",
    "Out of the 480 men that answered the survey, 324 said yes and 156 said no. On the other hand, out of the 520 women that answered, 351 said yes and 169 said no. \n",
    "\n",
    "We wonder if men and women have a different opinions about the street lighting matter. Is gender relevant or irrelevant to the question?\n",
    "\n",
    "Consider the following events:\n",
    "- The answer is yes, so the person that answered thinks that more street lighting is needed.\n",
    "- The person who answered is a man.\n",
    "\n",
    "We want to know if these events are independent, that is, if the fact of wanting more light depends on whether one is male or female. Are these events independent or not?\n",
    "\n",
    "**Hint**: To clearly compare the answers by gender, it is best to place the data in a table."
   ]
  },
  {
   "cell_type": "code",
   "execution_count": null,
   "metadata": {},
   "outputs": [],
   "source": [
    "# your code here"
   ]
  },
  {
   "cell_type": "code",
   "execution_count": null,
   "metadata": {},
   "outputs": [],
   "source": [
    "\"\"\"\n",
    "your solution here\n",
    "\"\"\""
   ]
  }
 ],
 "metadata": {
  "kernelspec": {
   "display_name": "Python 3 (ipykernel)",
   "language": "python",
   "name": "python3"
  },
  "language_info": {
   "codemirror_mode": {
    "name": "ipython",
    "version": 3
   },
   "file_extension": ".py",
   "mimetype": "text/x-python",
   "name": "python",
   "nbconvert_exporter": "python",
   "pygments_lexer": "ipython3",
   "version": "3.11.5"
  }
 },
 "nbformat": 4,
 "nbformat_minor": 4
}
